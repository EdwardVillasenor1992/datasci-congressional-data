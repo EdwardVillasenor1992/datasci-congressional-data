{
 "cells": [
  {
   "cell_type": "markdown",
   "metadata": {},
   "source": [
    "# SQL Querying"
   ]
  },
  {
   "cell_type": "markdown",
   "metadata": {},
   "source": [
    "This notebook can be used to query tables in the Congressional Data database. In order to use this notebook, you will need to set an environment variable 'CD_DWH' to the database connection string. If you do not have the credentials, please slack us at #datasci-congressdata channel and/or talk to a project lead.\n",
    "\n",
    "**It is best practice to not hard code database URI strings directly in notebooks or code as when we push to Github, that would mean credentials are public for anyone to see.**"
   ]
  },
  {
   "cell_type": "code",
   "execution_count": null,
   "metadata": {},
   "outputs": [],
   "source": [
    "import os\n",
    "import sys\n",
    "import math\n",
    "\n",
    "import pandas as pd\n",
    "pd.options.display.max_columns = 999\n",
    "import sqlalchemy as sqla\n",
    "from sqlalchemy import create_engine\n",
    "from sqlalchemy.engine import reflection\n",
    "\n",
    "from googleplaces import GooglePlaces, types, lang\n",
    "\n",
    "DB_URI = os.getenv('CD_DWH')\n",
    "engine = create_engine(DB_URI)\n",
    "YOUR_API_KEY = os.getenv('GOOGLE_PLACES_API')"
   ]
  },
  {
   "cell_type": "code",
   "execution_count": null,
   "metadata": {},
   "outputs": [],
   "source": [
    "# Checking that the Kernel is using the Conda environment datasci-congressional-data\n",
    "# Below you should see something like '/Users/Username/anaconda3/envs/datasci-congressional-data/bin/python\n",
    "# If you do NOT see \"datasci-congressional-data\" this means you are not in the right Python Environment\n",
    "# Please make sure you have gone through the onboarding docs and/or talk to a project lead.\n",
    "sys.executable"
   ]
  },
  {
   "cell_type": "markdown",
   "metadata": {},
   "source": [
    "Below are the tables that currently exist in the database!"
   ]
  },
  {
   "cell_type": "markdown",
   "metadata": {},
   "source": [
    "## Query for Geo-codable columns"
   ]
  },
  {
   "cell_type": "markdown",
   "metadata": {},
   "source": [
    "https://modeanalytics.com/code_for_san_francisco/reports/14ee2086d1e7"
   ]
  },
  {
   "cell_type": "code",
   "execution_count": null,
   "metadata": {},
   "outputs": [],
   "source": [
    "insp = reflection.Inspector.from_engine(engine)\n",
    "print(insp.get_table_names())"
   ]
  },
  {
   "cell_type": "code",
   "execution_count": null,
   "metadata": {},
   "outputs": [],
   "source": [
    "QUERRY = \"\"\"\n",
    "SELECT\n",
    "    *\n",
    "  FROM trg_analytics.candidate_contributions\n",
    "  LIMIT 10\"\"\"\n",
    "with engine.begin() as conn:\n",
    "    candidate_contributions_sample = pd.read_sql(QUERRY, conn)"
   ]
  },
  {
   "cell_type": "code",
   "execution_count": null,
   "metadata": {},
   "outputs": [],
   "source": [
    "candidate_contributions_sample.head()"
   ]
  },
  {
   "cell_type": "code",
   "execution_count": null,
   "metadata": {},
   "outputs": [],
   "source": [
    "QUERRY = \"\"\"\n",
    "SELECT\n",
    "    transaction_id\n",
    "    , transaction_amount\n",
    "    , donor_zip_code\n",
    "    , recipient_candidate_district\n",
    "  FROM trg_analytics.candidate_contributions\n",
    "  WHERE\n",
    "     transaction_type = 'Monetary Contribution' \"\"\"\n",
    "with engine.begin() as conn:\n",
    "    candidate_contributions_geo = pd.read_sql(QUERRY, conn)"
   ]
  },
  {
   "cell_type": "code",
   "execution_count": null,
   "metadata": {},
   "outputs": [],
   "source": [
    "candidate_contributions_geo.head()"
   ]
  },
  {
   "cell_type": "markdown",
   "metadata": {},
   "source": [
    "http://congressional-district.insidegov.com/d/d/California\n",
    "https://developers.google.com/maps/documentation/geocoding/intro"
   ]
  },
  {
   "cell_type": "code",
   "execution_count": null,
   "metadata": {},
   "outputs": [],
   "source": [
    "def geocode(df, api_key=YOUR_API_KEY):\n",
    "    \"\"\"Add Geocoded columns to df\n",
    "\n",
    "    Keyword Args:\n",
    "    df: Dataframe which must have an \"address\" column with a clean address\n",
    "    api_key: Google Places API Key\n",
    "    \"\"\"\n",
    "    google_places = GooglePlaces(api_key)\n",
    "    matches = []\n",
    "\n",
    "    # This counter is just for debugging purposes since I don't want to hit the API threshold\n",
    "    i = 0\n",
    "    for place in df.address:\n",
    "        print(place)\n",
    "        print(i)\n",
    "        query_result = google_places.nearby_search(\n",
    "            location=place,\n",
    "            radius=100\n",
    "        )\n",
    "        print(query_result.places)\n",
    "        matches.append(query_result.places)\n",
    "        i = i + 1\n",
    "        if i == 10:\n",
    "            break\n",
    "\n",
    "    for i in range(len(matches), len(df)):\n",
    "        matches.append(None)\n",
    "    df['matches'] = matches\n",
    "\n",
    "    return df"
   ]
  }
 ],
 "metadata": {
  "kernelspec": {
   "display_name": "Python 3",
   "language": "python",
   "name": "python3"
  },
  "language_info": {
   "codemirror_mode": {
    "name": "ipython",
    "version": 3
   },
   "file_extension": ".py",
   "mimetype": "text/x-python",
   "name": "python",
   "nbconvert_exporter": "python",
   "pygments_lexer": "ipython3",
   "version": "3.6.2"
  }
 },
 "nbformat": 4,
 "nbformat_minor": 2
}
