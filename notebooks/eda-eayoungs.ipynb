{
 "cells": [
  {
   "cell_type": "markdown",
   "metadata": {},
   "source": [
    "# SQL Querying"
   ]
  },
  {
   "cell_type": "markdown",
   "metadata": {},
   "source": [
    "This notebook can be used to query tables in the Congressional Data database. In order to use this notebook, you will need to set an environment variable 'CD_DWH' to the database connection string. If you do not have the credentials, please slack us at #datasci-congressdata channel and/or talk to a project lead.\n",
    "\n",
    "**It is best practice to not hard code database URI strings directly in notebooks or code as when we push to Github, that would mean credentials are public for anyone to see.**"
   ]
  },
  {
   "cell_type": "code",
   "execution_count": null,
   "metadata": {},
   "outputs": [],
   "source": [
    "import os\n",
    "import sys\n",
    "\n",
    "import pandas as pd\n",
    "pd.options.display.max_columns = 999\n",
    "import sqlalchemy as sqla\n",
    "from sqlalchemy import create_engine\n",
    "\n",
    "from plotnine import *\n",
    "import math\n",
    "\n",
    "DB_URI = os.getenv('CD_DWH')\n",
    "engine = create_engine(DB_URI)"
   ]
  },
  {
   "cell_type": "code",
   "execution_count": null,
   "metadata": {},
   "outputs": [],
   "source": [
    "# Checking that the Kernel is using the Conda environment datasci-congressional-data\n",
    "# Below you should see something like '/Users/Username/anaconda3/envs/datasci-congressional-data/bin/python\n",
    "# If you do NOT see \"datasci-congressional-data\" this means you are not in the right Python Environment\n",
    "# Please make sure you have gone through the onboarding docs and/or talk to a project lead.\n",
    "sys.executable"
   ]
  },
  {
   "cell_type": "markdown",
   "metadata": {},
   "source": [
    "Below are the tables that currently exist in the database!"
   ]
  },
  {
   "cell_type": "markdown",
   "metadata": {},
   "source": [
    "## Query Factors & visualize frequency plots"
   ]
  },
  {
   "cell_type": "code",
   "execution_count": null,
   "metadata": {},
   "outputs": [],
   "source": [
    "QUERRY = \"\"\"\n",
    "SELECT\n",
    "    recipient_candidate_name\n",
    "    , recipient_candidate_office\n",
    "    , donor_name\n",
    "    , donor_organization\n",
    "    , transaction_amount\n",
    "    , transaction_date\n",
    "  FROM trg_analytics.candidate_contributions\n",
    "  GROUP BY\n",
    "    recipient_candidate_office, transaction_id\"\"\"\n",
    "with engine.begin() as conn:\n",
    "    results = pd.read_sql(QUERRY, conn)"
   ]
  },
  {
   "cell_type": "code",
   "execution_count": null,
   "metadata": {},
   "outputs": [],
   "source": [
    "results.head()"
   ]
  },
  {
   "cell_type": "code",
   "execution_count": null,
   "metadata": {},
   "outputs": [],
   "source": [
    "candidate_contrib = results.groupby('recipient_candidate_office').agg({'transaction_amount': ['sum']})\n",
    "candidate_contrib_vals = candidate_contrib['transaction_amount', 'sum'].values"
   ]
  },
  {
   "cell_type": "code",
   "execution_count": null,
   "metadata": {},
   "outputs": [],
   "source": [
    "(ggplot(candidate_contrib)\n",
    "     + aes(x=candidate_contrib.index, y=candidate_contrib_vals)\n",
    "     + geom_col(size=20)\n",
    "     + coord_flip()\n",
    "     + ggtitle('Total contributions by office')\n",
    "     + xlab('Candidate Office')\n",
    "     + ylab('US Dollars')\n",
    ")"
   ]
  },
  {
   "cell_type": "code",
   "execution_count": null,
   "metadata": {},
   "outputs": [],
   "source": [
    "st_assem_results = results[results['recipient_candidate_office']=='State Assembly']\n",
    "st_assem_contrib = st_assem_results.groupby(\n",
    "    'recipient_candidate_name').agg(\n",
    "    {'transaction_amount': ['sum']})"
   ]
  },
  {
   "cell_type": "code",
   "execution_count": null,
   "metadata": {},
   "outputs": [],
   "source": [
    "st_assem_contrib.describe()"
   ]
  },
  {
   "cell_type": "code",
   "execution_count": null,
   "metadata": {},
   "outputs": [],
   "source": [
    "st_assem_top_contrib = st_assem_contrib['transaction_amount','sum'].nlargest(10)\n",
    "st_assem_top_contrib"
   ]
  },
  {
   "cell_type": "code",
   "execution_count": null,
   "metadata": {},
   "outputs": [],
   "source": [
    "(ggplot(st_assem_top_contrib)\n",
    "     + aes(x=st_assem_top_contrib.index, y=st_assem_top_contrib.values)\n",
    "     + geom_col(size=20)\n",
    "     + coord_flip()\n",
    "     + ggtitle('Total Contributions by Donor')\n",
    "     + xlab('Donor Name')\n",
    "     + ylab('US Dollars')\n",
    ")"
   ]
  }
 ],
 "metadata": {
  "kernelspec": {
   "display_name": "Python 3",
   "language": "python",
   "name": "python3"
  },
  "language_info": {
   "codemirror_mode": {
    "name": "ipython",
    "version": 3
   },
   "file_extension": ".py",
   "mimetype": "text/x-python",
   "name": "python",
   "nbconvert_exporter": "python",
   "pygments_lexer": "ipython3",
   "version": "3.6.2"
  }
 },
 "nbformat": 4,
 "nbformat_minor": 2
}
