{
 "cells": [
  {
   "cell_type": "markdown",
   "metadata": {},
   "source": [
    "# SQL Querying"
   ]
  },
  {
   "cell_type": "markdown",
   "metadata": {},
   "source": [
    "This notebook can be used to query tables in the Congressional Data database. In order to use this notebook, you will need to set an environment variable 'CD_DWH' to the database connection string. If you do not have the credentials, please slack us at #datasci-congressdata channel and/or talk to a project lead.\n",
    "\n",
    "**It is best practice to not hard code database URI strings directly in notebooks or code as when we push to Github, that would mean credentials are public for anyone to see.**"
   ]
  },
  {
   "cell_type": "code",
   "execution_count": null,
   "metadata": {},
   "outputs": [],
   "source": [
    "import os\n",
    "import sys\n",
    "\n",
    "import pandas as pd\n",
    "pd.options.display.max_columns = 999\n",
    "import sqlalchemy as sqla\n",
    "from sqlalchemy import create_engine\n",
    "\n",
    "from plotnine import *\n",
    "import math\n",
    "\n",
    "DB_URI = os.getenv('CD_DWH')\n",
    "engine = create_engine(DB_URI)"
   ]
  },
  {
   "cell_type": "code",
   "execution_count": null,
   "metadata": {},
   "outputs": [],
   "source": [
    "# Checking that the Kernel is using the Conda environment datasci-congressional-data\n",
    "# Below you should see something like '/Users/Username/anaconda3/envs/datasci-congressional-data/bin/python\n",
    "# If you do NOT see \"datasci-congressional-data\" this means you are not in the right Python Environment\n",
    "# Please make sure you have gone through the onboarding docs and/or talk to a project lead.\n",
    "sys.executable"
   ]
  },
  {
   "cell_type": "markdown",
   "metadata": {},
   "source": [
    "Below are the tables that currently exist in the database!"
   ]
  },
  {
   "cell_type": "markdown",
   "metadata": {},
   "source": [
    "## Query Factors & visualize frequency plots"
   ]
  },
  {
   "cell_type": "code",
   "execution_count": null,
   "metadata": {},
   "outputs": [],
   "source": [
    "QUERRY = \"\"\"\n",
    "SELECT\n",
    "    recipient_candidate_name\n",
    "    , recipient_candidate_office\n",
    "    , donor_name\n",
    "    , donor_organization\n",
    "    , transaction_amount\n",
    "    , transaction_date\n",
    "  FROM trg_analytics.candidate_contributions\n",
    "  GROUP BY\n",
    "    recipient_candidate_office, transaction_id\"\"\"\n",
    "with engine.begin() as conn:\n",
    "    results = pd.read_sql(QUERRY, conn)"
   ]
  },
  {
   "cell_type": "code",
   "execution_count": null,
   "metadata": {},
   "outputs": [],
   "source": [
    "results.set_index(pd.PeriodIndex(results['transaction_date'], freq='Y'),inplace=True,drop=True)\n",
    "results.head()"
   ]
  },
  {
   "cell_type": "code",
   "execution_count": null,
   "metadata": {},
   "outputs": [],
   "source": [
    "candidate_contrib = results.groupby('recipient_candidate_office').agg({'transaction_amount': ['sum']})\n",
    "candidate_contrib_vals = candidate_contrib['transaction_amount', 'sum']\n",
    "candidate_contrib_vals.sort_values().plot.barh()"
   ]
  },
  {
   "cell_type": "markdown",
   "metadata": {},
   "source": [
    "(ggplot(data = results)\n",
    "  + geom_freqpoly(aes(x=results['transaction_date']\n",
    "                      , color=results['recipient_candidate_office'])\n",
    "                      , binwidth=2000.0)\n",
    ")"
   ]
  },
  {
   "cell_type": "code",
   "execution_count": null,
   "metadata": {},
   "outputs": [],
   "source": [
    "st_assem_results = results[results['recipient_candidate_office']=='State Assembly']\n",
    "st_assem_candid = st_assem_results.groupby('recipient_candidate_name').agg({'transaction_amount': ['sum']})\n",
    "st_assem_candid_vals = st_assem_candid['transaction_amount','sum']\n",
    "st_assem_candid_vals.sort_values(ascending=False)[:30].plot.bar()"
   ]
  },
  {
   "cell_type": "code",
   "execution_count": null,
   "metadata": {},
   "outputs": [],
   "source": [
    "donor_contrib = st_assem_results.groupby('donor_organization').agg({'transaction_amount': ['sum']})\n",
    "donor_contrib_vals = donor_contrib['transaction_amount', 'sum']\n",
    "donor_contrib_vals.sort_values(ascending=False).plot.bar()"
   ]
  },
  {
   "cell_type": "code",
   "execution_count": null,
   "metadata": {},
   "outputs": [],
   "source": [
    "ind_results = st_assem_results[results['donor_organization']=='COM']\n"
   ]
  }
 ],
 "metadata": {
  "kernelspec": {
   "display_name": "Python 3",
   "language": "python",
   "name": "python3"
  },
  "language_info": {
   "codemirror_mode": {
    "name": "ipython",
    "version": 3
   },
   "file_extension": ".py",
   "mimetype": "text/x-python",
   "name": "python",
   "nbconvert_exporter": "python",
   "pygments_lexer": "ipython3",
   "version": "3.6.2"
  }
 },
 "nbformat": 4,
 "nbformat_minor": 2
}
