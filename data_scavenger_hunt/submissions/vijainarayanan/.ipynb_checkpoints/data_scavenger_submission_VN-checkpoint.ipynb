{
 "cells": [
  {
   "cell_type": "markdown",
   "metadata": {},
   "source": [
    "# SQL Querying"
   ]
  },
  {
   "cell_type": "markdown",
   "metadata": {},
   "source": [
    "This notebook can be used to query tables in the Congressional Data database. In order to use this notebook, you will need to set an environment variable 'CD_DWH' to the database connection string. If you do not have the credentials, please slack us at #datasci-congressdata channel and/or talk to a project lead.\n",
    "\n",
    "**It is best practice to not hard code database URI strings directly in notebooks or code as when we push to Github, that would mean credentials are public for anyone to see.**"
   ]
  },
  {
   "cell_type": "code",
   "execution_count": 1,
   "metadata": {},
   "outputs": [],
   "source": [
    "import os\n",
    "import sys\n",
    "\n",
    "import pandas as pd\n",
    "pd.options.display.max_columns = 999\n",
    "import sqlalchemy as sqla\n",
    "from sqlalchemy import create_engine\n",
    "\n",
    "DB_URI = os.getenv('CD_DWH')\n",
    "engine = create_engine(DB_URI)"
   ]
  },
  {
   "cell_type": "code",
   "execution_count": 2,
   "metadata": {},
   "outputs": [
    {
     "data": {
      "text/plain": [
       "'/anaconda/envs/congressdata/bin/python'"
      ]
     },
     "execution_count": 2,
     "metadata": {},
     "output_type": "execute_result"
    }
   ],
   "source": [
    "# Checking that the Kernel is using the Conda environment datasci-congressional-data\n",
    "# Below you should see something like '/Users/Username/anaconda3/envs/datasci-congressional-data/bin/python\n",
    "# If you do NOT see \"datasci-congressional-data\" this means you are not in the right Python Environment\n",
    "# Please make sure you have gone through the onboarding docs and/or talk to a project lead.\n",
    "sys.executable"
   ]
  },
  {
   "cell_type": "markdown",
   "metadata": {},
   "source": [
    "Below are the tables that currently exist in the database!"
   ]
  },
  {
   "cell_type": "code",
   "execution_count": 3,
   "metadata": {},
   "outputs": [
    {
     "data": {
      "text/html": [
       "<div>\n",
       "<style scoped>\n",
       "    .dataframe tbody tr th:only-of-type {\n",
       "        vertical-align: middle;\n",
       "    }\n",
       "\n",
       "    .dataframe tbody tr th {\n",
       "        vertical-align: top;\n",
       "    }\n",
       "\n",
       "    .dataframe thead th {\n",
       "        text-align: right;\n",
       "    }\n",
       "</style>\n",
       "<table border=\"1\" class=\"dataframe\">\n",
       "  <thead>\n",
       "    <tr style=\"text-align: right;\">\n",
       "      <th></th>\n",
       "      <th>table_catalog</th>\n",
       "      <th>table_schema</th>\n",
       "      <th>table_name</th>\n",
       "      <th>table_type</th>\n",
       "      <th>self_referencing_column_name</th>\n",
       "      <th>reference_generation</th>\n",
       "      <th>user_defined_type_catalog</th>\n",
       "      <th>user_defined_type_schema</th>\n",
       "      <th>user_defined_type_name</th>\n",
       "      <th>is_insertable_into</th>\n",
       "      <th>is_typed</th>\n",
       "      <th>commit_action</th>\n",
       "    </tr>\n",
       "  </thead>\n",
       "  <tbody>\n",
       "    <tr>\n",
       "      <th>0</th>\n",
       "      <td>datascicongressionaldata</td>\n",
       "      <td>stg_analytics</td>\n",
       "      <td>stg_candidate_contributions</td>\n",
       "      <td>BASE TABLE</td>\n",
       "      <td>None</td>\n",
       "      <td>None</td>\n",
       "      <td>None</td>\n",
       "      <td>None</td>\n",
       "      <td>None</td>\n",
       "      <td>YES</td>\n",
       "      <td>NO</td>\n",
       "      <td>None</td>\n",
       "    </tr>\n",
       "    <tr>\n",
       "      <th>1</th>\n",
       "      <td>datascicongressionaldata</td>\n",
       "      <td>stg_analytics</td>\n",
       "      <td>stg_candidate_election_results</td>\n",
       "      <td>BASE TABLE</td>\n",
       "      <td>None</td>\n",
       "      <td>None</td>\n",
       "      <td>None</td>\n",
       "      <td>None</td>\n",
       "      <td>None</td>\n",
       "      <td>YES</td>\n",
       "      <td>NO</td>\n",
       "      <td>None</td>\n",
       "    </tr>\n",
       "    <tr>\n",
       "      <th>2</th>\n",
       "      <td>datascicongressionaldata</td>\n",
       "      <td>data_ingest</td>\n",
       "      <td>sfdata__campaign_finance_form460_schedulea</td>\n",
       "      <td>BASE TABLE</td>\n",
       "      <td>None</td>\n",
       "      <td>None</td>\n",
       "      <td>None</td>\n",
       "      <td>None</td>\n",
       "      <td>None</td>\n",
       "      <td>YES</td>\n",
       "      <td>NO</td>\n",
       "      <td>None</td>\n",
       "    </tr>\n",
       "    <tr>\n",
       "      <th>3</th>\n",
       "      <td>datascicongressionaldata</td>\n",
       "      <td>trg_analytics</td>\n",
       "      <td>candidate_contributions</td>\n",
       "      <td>BASE TABLE</td>\n",
       "      <td>None</td>\n",
       "      <td>None</td>\n",
       "      <td>None</td>\n",
       "      <td>None</td>\n",
       "      <td>None</td>\n",
       "      <td>YES</td>\n",
       "      <td>NO</td>\n",
       "      <td>None</td>\n",
       "    </tr>\n",
       "    <tr>\n",
       "      <th>4</th>\n",
       "      <td>datascicongressionaldata</td>\n",
       "      <td>data_ingest</td>\n",
       "      <td>maplight__california_candidate</td>\n",
       "      <td>BASE TABLE</td>\n",
       "      <td>None</td>\n",
       "      <td>None</td>\n",
       "      <td>None</td>\n",
       "      <td>None</td>\n",
       "      <td>None</td>\n",
       "      <td>YES</td>\n",
       "      <td>NO</td>\n",
       "      <td>None</td>\n",
       "    </tr>\n",
       "    <tr>\n",
       "      <th>5</th>\n",
       "      <td>datascicongressionaldata</td>\n",
       "      <td>data_ingest</td>\n",
       "      <td>maplight__california_other</td>\n",
       "      <td>BASE TABLE</td>\n",
       "      <td>None</td>\n",
       "      <td>None</td>\n",
       "      <td>None</td>\n",
       "      <td>None</td>\n",
       "      <td>None</td>\n",
       "      <td>YES</td>\n",
       "      <td>NO</td>\n",
       "      <td>None</td>\n",
       "    </tr>\n",
       "    <tr>\n",
       "      <th>6</th>\n",
       "      <td>datascicongressionaldata</td>\n",
       "      <td>data_ingest</td>\n",
       "      <td>casos__california_candidate_statewide_election...</td>\n",
       "      <td>BASE TABLE</td>\n",
       "      <td>None</td>\n",
       "      <td>None</td>\n",
       "      <td>None</td>\n",
       "      <td>None</td>\n",
       "      <td>None</td>\n",
       "      <td>YES</td>\n",
       "      <td>NO</td>\n",
       "      <td>None</td>\n",
       "    </tr>\n",
       "    <tr>\n",
       "      <th>7</th>\n",
       "      <td>datascicongressionaldata</td>\n",
       "      <td>data_ingest</td>\n",
       "      <td>ceda__california_candidate_local_election_results</td>\n",
       "      <td>BASE TABLE</td>\n",
       "      <td>None</td>\n",
       "      <td>None</td>\n",
       "      <td>None</td>\n",
       "      <td>None</td>\n",
       "      <td>None</td>\n",
       "      <td>YES</td>\n",
       "      <td>NO</td>\n",
       "      <td>None</td>\n",
       "    </tr>\n",
       "  </tbody>\n",
       "</table>\n",
       "</div>"
      ],
      "text/plain": [
       "              table_catalog   table_schema  \\\n",
       "0  datascicongressionaldata  stg_analytics   \n",
       "1  datascicongressionaldata  stg_analytics   \n",
       "2  datascicongressionaldata    data_ingest   \n",
       "3  datascicongressionaldata  trg_analytics   \n",
       "4  datascicongressionaldata    data_ingest   \n",
       "5  datascicongressionaldata    data_ingest   \n",
       "6  datascicongressionaldata    data_ingest   \n",
       "7  datascicongressionaldata    data_ingest   \n",
       "\n",
       "                                          table_name  table_type  \\\n",
       "0                        stg_candidate_contributions  BASE TABLE   \n",
       "1                     stg_candidate_election_results  BASE TABLE   \n",
       "2         sfdata__campaign_finance_form460_schedulea  BASE TABLE   \n",
       "3                            candidate_contributions  BASE TABLE   \n",
       "4                     maplight__california_candidate  BASE TABLE   \n",
       "5                         maplight__california_other  BASE TABLE   \n",
       "6  casos__california_candidate_statewide_election...  BASE TABLE   \n",
       "7  ceda__california_candidate_local_election_results  BASE TABLE   \n",
       "\n",
       "  self_referencing_column_name reference_generation user_defined_type_catalog  \\\n",
       "0                         None                 None                      None   \n",
       "1                         None                 None                      None   \n",
       "2                         None                 None                      None   \n",
       "3                         None                 None                      None   \n",
       "4                         None                 None                      None   \n",
       "5                         None                 None                      None   \n",
       "6                         None                 None                      None   \n",
       "7                         None                 None                      None   \n",
       "\n",
       "  user_defined_type_schema user_defined_type_name is_insertable_into is_typed  \\\n",
       "0                     None                   None                YES       NO   \n",
       "1                     None                   None                YES       NO   \n",
       "2                     None                   None                YES       NO   \n",
       "3                     None                   None                YES       NO   \n",
       "4                     None                   None                YES       NO   \n",
       "5                     None                   None                YES       NO   \n",
       "6                     None                   None                YES       NO   \n",
       "7                     None                   None                YES       NO   \n",
       "\n",
       "  commit_action  \n",
       "0          None  \n",
       "1          None  \n",
       "2          None  \n",
       "3          None  \n",
       "4          None  \n",
       "5          None  \n",
       "6          None  \n",
       "7          None  "
      ]
     },
     "execution_count": 3,
     "metadata": {},
     "output_type": "execute_result"
    }
   ],
   "source": [
    "QUERY = \"\"\"\n",
    "select *\n",
    "from information_schema.tables\n",
    "where table_schema not in ('information_schema', 'pg_catalog', 'public')\n",
    "\"\"\"\n",
    "with engine.begin() as conn:\n",
    "    results = pd.read_sql(QUERY, conn)\n",
    "results.head(100)"
   ]
  },
  {
   "cell_type": "markdown",
   "metadata": {
    "collapsed": true
   },
   "source": [
    "## Query Example"
   ]
  },
  {
   "cell_type": "code",
   "execution_count": null,
   "metadata": {
    "scrolled": false
   },
   "outputs": [],
   "source": [
    "%%time\n",
    "QUERY = \"\"\"\n",
    "select\n",
    "  *\n",
    "from trg_analytics.candidate_contributions\n",
    "\"\"\"\n",
    "# removed limit 1000 from query (I want to pull all the rows in the table, not just 1000)\n",
    "with engine.begin() as conn:\n",
    "    results = pd.read_sql(QUERY, conn)"
   ]
  },
  {
   "cell_type": "code",
   "execution_count": null,
   "metadata": {},
   "outputs": [],
   "source": [
    "results.head(100)"
   ]
  },
  {
   "cell_type": "code",
   "execution_count": null,
   "metadata": {},
   "outputs": [],
   "source": [
    "results.shape"
   ]
  },
  {
   "cell_type": "code",
   "execution_count": null,
   "metadata": {},
   "outputs": [],
   "source": [
    "# List out all the rows in the dataframe\n",
    "print(list(results.index))\n",
    "# List out all the columns in the dataframe\n",
    "print(list(results.columns))\n",
    "# List out the rows, columns in the dataframe\n",
    "print(list(results.shape))"
   ]
  },
  {
   "cell_type": "code",
   "execution_count": null,
   "metadata": {},
   "outputs": [],
   "source": [
    "# List out all the unique values in a column\n",
    "results.recipient_committee_name.unique()\n",
    "# List out all the unique values by column\n",
    "for col in results.columns:\n",
    "    print (col + \" : \" + str(results[col].unique()))"
   ]
  },
  {
   "cell_type": "code",
   "execution_count": null,
   "metadata": {},
   "outputs": [],
   "source": [
    "# List out all rows using location based indexing\n",
    "results.iloc[:,2]\n",
    "# List out all rows using keyword based indexing\n",
    "results.loc[:, 'election_cycle']\n",
    "\n",
    "# Filter out rows according to column values\n",
    "results.loc[(results['donor_state'] == 'CA') & (results['donor_organization'] == 'OTH')]"
   ]
  },
  {
   "cell_type": "code",
   "execution_count": null,
   "metadata": {},
   "outputs": [],
   "source": [
    "results[(results['donor_state'] == 'CA') & (results['donor_organization'] == 'OTH')][['transaction_id','transaction_amount']]"
   ]
  },
  {
   "cell_type": "code",
   "execution_count": null,
   "metadata": {},
   "outputs": [],
   "source": [
    "# Group according to category and summarize\n",
    "results.groupby('recipient_candidate_name')['transaction_amount'].describe()\n",
    "# Group according to multiple categories and summarize\n",
    "results.groupby(['recipient_candidate_name', 'transaction_amount'])['transaction_amount'].count()"
   ]
  },
  {
   "cell_type": "code",
   "execution_count": null,
   "metadata": {},
   "outputs": [],
   "source": [
    "# Find cumulative sum by row\n",
    "results['transaction_amount'].cumsum()"
   ]
  },
  {
   "cell_type": "code",
   "execution_count": null,
   "metadata": {},
   "outputs": [],
   "source": [
    "results.iloc[2,:]"
   ]
  },
  {
   "cell_type": "code",
   "execution_count": null,
   "metadata": {},
   "outputs": [],
   "source": [
    "len(results.index)"
   ]
  },
  {
   "cell_type": "code",
   "execution_count": null,
   "metadata": {},
   "outputs": [],
   "source": [
    "results.head()"
   ]
  },
  {
   "cell_type": "code",
   "execution_count": null,
   "metadata": {},
   "outputs": [],
   "source": [
    "results['transaction_amount'].sum()"
   ]
  },
  {
   "cell_type": "code",
   "execution_count": null,
   "metadata": {},
   "outputs": [],
   "source": [
    "results.groupby('donor_zip_code').sum().sort_values('transaction_amount', ascending = False)"
   ]
  },
  {
   "cell_type": "code",
   "execution_count": null,
   "metadata": {
    "scrolled": false
   },
   "outputs": [],
   "source": [
    "topspend = ['95814', '95030', '91506', '94010', '90071']\n",
    "results[results['donor_zip_code'].isin(topspend)][['donor_city', 'donor_state']]\n",
    "\n",
    "# results[(results['donor_state'] == 'CA') & (results['donor_organization'] == 'OTH')][['transaction_id','transaction_amount']]\n",
    "# results.loc[(results['donor_state'] == 'CA') & (results['donor_organization'] == 'OTH')]"
   ]
  },
  {
   "cell_type": "code",
   "execution_count": null,
   "metadata": {},
   "outputs": [],
   "source": [
    "results[(results['election_cycle'] == '2003')].groupby('recipient_candidate_name').sum().sort_values('transaction_amount', ascending = False)"
   ]
  },
  {
   "cell_type": "code",
   "execution_count": null,
   "metadata": {},
   "outputs": [],
   "source": [
    "results[(results['recipient_candidate_name'] == 'POIZNER, STEVE')].groupby('donor_name').sum().sort_values('transaction_amount', ascending = False)"
   ]
  },
  {
   "cell_type": "code",
   "execution_count": null,
   "metadata": {},
   "outputs": [],
   "source": [
    "donorsum = results.groupby('donor_name').sum().sort_values('transaction_amount', ascending = False)\n",
    "donorsum"
   ]
  },
  {
   "cell_type": "code",
   "execution_count": null,
   "metadata": {},
   "outputs": [],
   "source": [
    "donorsum['cumsum'] = donorsum['transaction_amount'].cumsum()\n",
    "donorsum['percentile'] = donorsum['cumsum'] / donorsum['transaction_amount'].sum()\n",
    "donorsum[(donorsum['percentile'] <= .5)].shape"
   ]
  },
  {
   "cell_type": "markdown",
   "metadata": {},
   "source": [
    "### 1) How many rows are in trg_analytics.candidate_contributions?"
   ]
  },
  {
   "cell_type": "code",
   "execution_count": null,
   "metadata": {},
   "outputs": [],
   "source": [
    "results.shape[0]"
   ]
  },
  {
   "cell_type": "markdown",
   "metadata": {},
   "source": [
    "### 2) What is the total sum of donations made to candidates in the 2017-2018 election cycle?"
   ]
  },
  {
   "cell_type": "code",
   "execution_count": null,
   "metadata": {},
   "outputs": [],
   "source": [
    "round(results.groupby('election_cycle')['transaction_amount'].sum()['2017'])"
   ]
  },
  {
   "cell_type": "markdown",
   "metadata": {},
   "source": [
    "### 3) Across history what are the top 5 zip codes ranked according to the donations sourced from those areas? Which cities are these zip codes located in? Do you notice anything surprising?"
   ]
  },
  {
   "cell_type": "code",
   "execution_count": null,
   "metadata": {},
   "outputs": [],
   "source": [
    "topfive_donors_zipcodes = results.groupby('donor_zip_code').sum()['transaction_amount'].nlargest(n=5)\n",
    "topfive_donors_zipcodes_list = list(topfive_donors_zipcodes.index)\n",
    "topfive_donors_zipcodes_list"
   ]
  },
  {
   "cell_type": "code",
   "execution_count": null,
   "metadata": {
    "scrolled": false
   },
   "outputs": [],
   "source": [
    "for zipcode in topfive_donors_zipcodes_list:\n",
    "    print (results[results['donor_zip_code'] == zipcode]['donor_city'].str.lower().unique())"
   ]
  },
  {
   "cell_type": "markdown",
   "metadata": {},
   "source": [
    "## 4) In the 2015-2016 election cycle, which candidate received the most donations?"
   ]
  },
  {
   "cell_type": "code",
   "execution_count": null,
   "metadata": {},
   "outputs": [],
   "source": [
    "top_donations = results[(results['election_cycle'] == '2015')].groupby('recipient_candidate_name').sum().sort_values('transaction_amount', ascending = False)\n",
    "top_donations.iloc[0:5, 1]"
   ]
  },
  {
   "cell_type": "markdown",
   "metadata": {},
   "source": [
    "### 5) For the candidate you found in question (4) above, who was their highest contributing donor?"
   ]
  },
  {
   "cell_type": "code",
   "execution_count": null,
   "metadata": {},
   "outputs": [],
   "source": [
    "top_donors = results[(results['recipient_candidate_name'] == 'NEWSOM, GAVIN')].groupby('donor_name').sum().sort_values('transaction_amount', ascending = False)\n",
    "top_donors.iloc[0:5, 1]"
   ]
  },
  {
   "cell_type": "markdown",
   "metadata": {},
   "source": [
    "### 6) In the 2017-2018 election cycle, how many donors comprised of 50% of all donations made?"
   ]
  },
  {
   "cell_type": "code",
   "execution_count": null,
   "metadata": {},
   "outputs": [],
   "source": [
    "top_donors_2017 = results[(results['election_cycle'] == '2017')].groupby('donor_name').sum().sort_values('transaction_amount', ascending=False)\n",
    "top_donors_2017['Transaction_Amount_Cumulative_Sum'] = top_donors_2017['transaction_amount'].cumsum()\n",
    "total_sum = top_donors_2017['transaction_amount'].sum()\n",
    "half_sum = total_sum / 2"
   ]
  },
  {
   "cell_type": "code",
   "execution_count": null,
   "metadata": {},
   "outputs": [],
   "source": [
    "top_50_donor_count = top_donors_2017[top_donors_2017['Transaction_Amount_Cumulative_Sum'] < half_sum]\n",
    "top_50_donor_count['Transaction_Amount_Cumulative_Sum'].count()"
   ]
  },
  {
   "cell_type": "markdown",
   "metadata": {},
   "source": [
    "### 7) Repeat (6) for all the other election cycles (currently the dataset includes election cycles starting in 2001). Does the number of donors who comprise of 50% of all donations made within each election cycle change over time?"
   ]
  },
  {
   "cell_type": "code",
   "execution_count": null,
   "metadata": {},
   "outputs": [],
   "source": [
    "unique_election_cycles = results['election_cycle'].unique()"
   ]
  },
  {
   "cell_type": "code",
   "execution_count": null,
   "metadata": {},
   "outputs": [],
   "source": [
    "dap = {}\n",
    "for el_cycle in unique_election_cycles:\n",
    "    top_donors_el_cycle = results[(results['election_cycle'] == el_cycle)].groupby('donor_name').sum().sort_values('transaction_amount', ascending=False)\n",
    "    top_donors_el_cycle['Transaction_Amount_Cumulative_Sum'] = top_donors_el_cycle['transaction_amount'].cumsum()\n",
    "    total_sum_cycle = top_donors_2017['transaction_amount'].sum()\n",
    "    half_sum_cycle = (total_sum_cycle / 2)\n",
    "    top_50_donor_count_el_cycle = top_donors_el_cycle[top_donors_el_cycle['Transaction_Amount_Cumulative_Sum'] < half_sum]\n",
    "    dap[el_cycle] = top_50_donor_count_el_cycle.count()\n",
    "    print (str(el_cycle) + \" : \" + str(dap[el_cycle]['Transaction_Amount_Cumulative_Sum']))"
   ]
  },
  {
   "cell_type": "code",
   "execution_count": null,
   "metadata": {},
   "outputs": [],
   "source": [
    "top_donors_2005 = results[(results['election_cycle'] == '2005')].groupby('donor_name').sum().sort_values('transaction_amount', ascending=False)\n",
    "top_donors_2005['Transaction_Amount_Cumulative_Sum'] = top_donors_2005['transaction_amount'].cumsum()\n",
    "total_sum = top_donors_2005['transaction_amount'].sum()\n",
    "half_sum = total_sum / 2\n",
    "# top_50_donor_count = top_donors_2017[top_donors_2017['Transaction_Amount_Cumulative_Sum'] < half_sum]\n",
    "# top_50_donor_count['Transaction_Amount_Cumulative_Sum'].count()\n",
    "top_donors_2005"
   ]
  },
  {
   "cell_type": "code",
   "execution_count": null,
   "metadata": {},
   "outputs": [],
   "source": [
    "half_sum"
   ]
  },
  {
   "cell_type": "code",
   "execution_count": null,
   "metadata": {},
   "outputs": [],
   "source": []
  }
 ],
 "metadata": {
  "kernelspec": {
   "display_name": "Python [default]",
   "language": "python",
   "name": "python3"
  },
  "language_info": {
   "codemirror_mode": {
    "name": "ipython",
    "version": 3
   },
   "file_extension": ".py",
   "mimetype": "text/x-python",
   "name": "python",
   "nbconvert_exporter": "python",
   "pygments_lexer": "ipython3",
   "version": "3.6.0"
  }
 },
 "nbformat": 4,
 "nbformat_minor": 2
}
